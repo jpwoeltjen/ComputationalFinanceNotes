{
 "cells": [
  {
   "cell_type": "markdown",
   "metadata": {},
   "source": [
    "# Computational Finance\n",
    "\n",
    "We want to (1) compute the value of an option, (2) define hedging strategies that replicate this option, and (3) calibrate a parametric model with observed option prices. "
   ]
  },
  {
   "cell_type": "markdown",
   "metadata": {},
   "source": [
    "Consider a market containing two primary assets: a risk-free bond with price $B_t=e^{rt}$, a stock $S_t$\n",
    "of geometric Brownian motion type $S(t)$ = $S(0) exp(\\mu t + \\sigma W(t))$, with parameters $\\mu \\in \\mathbb{R}, \\sigma > 0 $ and standard Brownian motion $W$."
   ]
  },
  {
   "cell_type": "markdown",
   "metadata": {},
   "source": [
    "A derivative or option is an asset whose payoff depends on the underlying. The payoff $X$ at time $T$ may be a function $f(S(T))$ of the underlying at time $T$ as e.g. $X = (S(T)-K)^{+}$ for a simple European call or it could be a more complex function of the whole past of $S$. In complete markets such options can be replicated perfectly. This means that there exists a self-financing portfolio $\\phi = (\\phi_0,\\phi_1)$ whose value at time $T$ equals $V_\\phi(T) = X$. Absence of arbitrage implies that $V_\\phi(t)$ is the only reasonable option price of the option at time $t$. It can be computed as conditional expectation\n",
    "\n",
    "\n",
    "$V_\\phi(t) = B(t)\\mathbb{E}^\\mathbb{Q}\\big[X/B(T) \\big| \\mathcal{F}_t\\big]$ \n",
    "\n",
    "\n",
    "of the discounted payoff under the unique equivalent martingale measure $\\mathbb{Q}$, i.e. the unique\n",
    "probability measure $\\mathbb{Q} \\sim \\mathbb{P}$ such that $S/B$ is a $\\mathbb{Q}$-martingale."
   ]
  },
  {
   "cell_type": "markdown",
   "metadata": {},
   "source": [
    "American options are specified by an entire exercise process $X = (X(t))_{t\\in[0,T]}$ as e.g. $X(t) = (K-S(t))^{+}$ for an American put. In the complete case, the only reasonable price is the B-fold of the Snell envelope of $X/B$ relative to $\\mathbb{Q}$. The $\\mathbb{Q}$-Snell envelope is the smallest $\\mathbb{Q}$-supermartingale dominating $X/B$. Again, $\\mathbb{Q}$ denotes the unique equivalent martingale measure from above. One can write this fair price also as\n",
    "\n",
    "\n",
    "$V(t) =  \\sup_{\\tau} \\mathbb{E}^\\mathbb{Q}\\big[X(\\tau)/B(\\tau) \\big| \\mathcal{F}_t\\big]$ \n",
    "\n",
    "\n",
    "where the supremum extends over all stopping times stopping between t and T. One such stopping time is the first time $t$ such that $V (t) = X(t)$, i.e. the market price of the option equals the exercise price.\n",
    "\n"
   ]
  },
  {
   "cell_type": "markdown",
   "metadata": {},
   "source": [
    "- A Martingale is a sequence of random variables (i.e., a stochastic process) for which, at a particular time in the realized sequence, the expectation of the next value in the sequence is equal to the present observed value even given knowledge of all prior observed values. Supermartingale: $\\mathbb{E}$ equal or less than current value.\n",
    "- The Snell envelope is the smallest supermartingale dominating a stochastic process. \n",
    "- Supremum: the smallest quantity that is greater than or equal to each of a given set or subset of quantities.\n",
    "- $\\mathcal{F}_t$ is the sigma-field at time $t$, i.e. all the available information at time $t $"
   ]
  },
  {
   "cell_type": "markdown",
   "metadata": {},
   "source": [
    "## Binomial Trees \n"
   ]
  },
  {
   "cell_type": "markdown",
   "metadata": {},
   "source": [
    "\n",
    "In the Cox-Ross-Rubinstein model (CRR) we consider equidistant times $0 = t_0,t_1,...,t_M = T$ with $t_i = i\\Delta t$ and hence $\\Delta t = T/M.$ The bond moves according to $B(t_i) = e^{rt_i}$ .\n",
    "The stock goes up by a factor $u$ resp. down by a factor $d$ in each period, i.e.,\n",
    "\n",
    "$\n",
    " S(t_i) = \n",
    "  \\begin{cases}\n",
    "   S(t_{i-1})u&\\text{with probability } p \\\\\n",
    "   S(t_{i-1})d&\\text{with probability } p-1\n",
    "  \\end{cases}\n",
    "$\n",
    "\n",
    "\n",
    ", where $d < e^{r\\Delta t} < u$. More precisely, $p$ and $1-p$ denote the conditional probabilities of going up and down, repectively, given the past. Option prices in a properly chosen sequence of CRR models converge to the corresponding Black-Scholes notions if the number of time step tends to infinity.\n",
    "\n",
    "For option pricing real-world transition probabilities do not matter. Instead we need to consider martingale probabilities, i.e. probabilities such that\n",
    "\n",
    "$\\mathbb{E}^\\mathbb{Q}\\big[S(t_i)/B(t_i)\\big| \\mathcal{F}_{t_{i-1}}\\big] = S(t_{i-1})/B(t_{i-1})$ .\n",
    "\n",
    "\n",
    "If we denote the $Q$-transition probabilities by $q$ and $1-q$, respectively, the left-hand side equals\n",
    "$q \\frac{S(t_{i-1})u}{B(t_{i-1})e^{r\\Delta t}} + (1-q) \\frac{ S(t_{i-1})d}{B(t_{i-1})e^{r\\Delta t}} $ which equals the right-hand side iff\n",
    "\n",
    "$ \\frac{qu+(1-q)d}{e^{r\\Delta t}} = 1 $\n",
    "\n",
    " or\n",
    "\n",
    "$ q = \\frac{e^{r\\Delta t}-d}{u-d}$\n",
    "\n",
    "\n",
    "\n",
    "As previously mentioned a properly parameterized CRR model approximates BS as $M$ gets large. If we match the first two moments of the CRR and BS model we obtain\n",
    "\n",
    "$\\begin{align}\n",
    "u = \\beta + \\sqrt{\\beta^2 - 1 }\\\\\n",
    "d = \\beta - \\sqrt{\\beta^2 - 1 }\\\\\n",
    "q = \\frac{\\exp(r\\Delta t ) - d}{u-d}\\\\\n",
    "\\beta = \\frac{1}{2}( \\exp{(-r \\Delta t )} + \\exp{((r +\\sigma^2) \\Delta t)}) \\\\\n",
    "\\end{align}$"
   ]
  },
  {
   "cell_type": "markdown",
   "metadata": {},
   "source": [
    "### European Options \n",
    "Consider a European option with payoff $g(S(T))$ for some function $g$ as e.g. $g(x) = (x-K)^{+}$ (call) or $g(x) = (K-x)^{+}$ (put). We denote the fair price of the option at time $t_i$ by $V(S(t_i), t_i)$. The $Q$-martingale property for discounted option prices reads as\n",
    "\n",
    "\n",
    "$\\mathbb{E}^\\mathbb{Q}\\big[V (S(t_i), t_i)/B(t_i)\\big| \\mathcal{F}_{t_{i-1}}\\big] = V (S(t_{i-1}), t_{i-1})/B(t_{i-1})$ \n",
    "\n",
    "or \n",
    "\n",
    "$q \\frac{ V(S(t_{i-1})u,t_i)}{B(t_{i-1})e^{r\\Delta t}} + (1-q)\\frac{ V(S(t_{i-1})d,t_i)}{B(t_{i-1})e^{r\\Delta t}}  = \\frac{ V(S(t_{i-1}),t_i)}{B(t_{i-1})}$\n",
    "\n",
    "or\n",
    "\n",
    "$V (S(t_{i-1}), t_{i-1}) = e^{-r\\Delta t} (qV(S(t_{i-1})u, t_i) + (1-q)V(S(t_{i-1})d, t_i))$\n",
    "\n",
    "We can compute option prices starting from $V (S(T ), T ) = g(S(T ))$ and moving backwards in time.\n",
    "\n",
    "Since the model is complete, the payoff $g(S(T))$ can be replicated perfectly by a self-\n",
    "financing portfolio $\\phi = (\\phi_0, \\phi_1)$. Its value equals $\\phi_0(t_i)B(t_i) + \\phi_1(t_i)S(t_i) = V (S(t_i), t_i)$.\n",
    "\n",
    "Due to self-financeability\n",
    "\n",
    "$\\phi_0(t_{i-1})B(t_{i-1}) + \\phi_1(t_{i-1})S(t_{i-1}) = \\phi_0(t_i)B(t_{i-1}) + \\phi_1(t_i)S(t_{i-1})$\n",
    "\n",
    "lead to \n",
    "\n",
    "$\\phi_0(t_i)B(t_{i-1}) + \\phi_1(t_i)S(t_{i-1}) = V (S(t_{i-1}), t_{i-1})$\n",
    "\n",
    "\n",
    "$\\phi_0(t_i)B(t_{i-1}) + \\phi_1(t_i)S(t_{i-1}u) = V (S(t_{i-1}u), t_{i-1})$\n",
    "\n",
    "\n",
    "$\\phi_0(t_i)B(t_{i-1}) + \\phi_1(t_i)S(t_{i-1}d) = V (S(t_{i-1}d), t_{i-1})$\n",
    "\n",
    "Hence,\n",
    "\n",
    "$\\phi_1(t_i) = \\frac{V (S(t_{i-1})u, t_i) - V (S(t_{i-1})d, t_i)}{ S(t_{i-1})(u-d)}$\n",
    "\n",
    "$\\phi_0(t_i) = \\frac{V (S(t_{i-1}),t_{i-1})- \\phi_1(t_i)S(t_{i-1})}{B(t_{i-1})}$"
   ]
  },
  {
   "cell_type": "markdown",
   "metadata": {},
   "source": [
    "### American Options \n",
    "American options have exercise price $g(S(t_i))$ at time $t_i$.\n",
    "\n",
    "$V(S(t_{i-1}), t_{i-1}) = \\max{ \\{g(S(t_{i-1})),\\mathbb{E}^\\mathbb{Q}\\big[V (S(t_i), t_i)/B(t_i)\\big| \\mathcal{F}_{t_{i-1}}\\big]\\}}$ \n",
    "\n",
    "This leads to \n",
    "\n",
    "$V (S(t_{i-1}), t_{i-1}) = \\max{ \\{g(S(t_{i-1})),e^{-r\\Delta t} (qV(S(t_{i-1})u, t_i) + (1-q)V(S(t_{i-1})d, t_i))\\}}$\n",
    "\n",
    "The first optimal stopping time is\n",
    "\n",
    "$\\tau_f = \\inf{\\{t_i : V (S(t_i), t_i) = g(S(t_i))\\}}$\n",
    "\n",
    "and the last optimal stopping time is\n",
    "\n",
    "$\\tau_s = \\inf{ \\{t_i : i = M \\text{  or  } g(S(t_i)) > e^{-r\\Delta t} (qV (S(t_i)u, t_{i+1}) + (1-q)V (S(t_i)d, t_{i+1}))\\}}$"
   ]
  },
  {
   "cell_type": "code",
   "execution_count": 7,
   "metadata": {},
   "outputs": [
    {
     "name": "stdout",
     "output_type": "stream",
     "text": [
      "Fair value of option: 13.282\n"
     ]
    }
   ],
   "source": [
    "import numpy as np\n",
    "\n",
    "def crr_bs_approx(S_0,r,sigma,T,M,K,EU,Type):\n",
    "    \n",
    "    dt=T/M\n",
    "    #Set u,d,q such that first and second moments match BS\n",
    "    beta = 0.5*(np.exp(-r*dt)+np.exp((r+(sigma**2))*dt))\n",
    "    u = beta + ((beta**2)-1)**0.5\n",
    "    d = 1/u#beta - ((beta**2)-1)**0.5\n",
    "    q = (np.exp(r*dt)-d)/(u-d)\n",
    "\n",
    "    if Type == 'call':\n",
    "        def g(St,K):\n",
    "            return max(St - K, 0)\n",
    "    elif Type == 'put':\n",
    "        def g(St,K):\n",
    "            return max(K - St, 0)\n",
    "    else:\n",
    "        raise Exception(\"Specify valid Type ('put'/'call')\") \n",
    "\n",
    "    g = np.vectorize(g ,otypes=[np.float])        \n",
    "\n",
    "    S = np.zeros((M+1,M+1))\n",
    "    S[0,0] = S_0\n",
    "    V = np.zeros((M+1,M+1))\n",
    "    for i in range(1,M+1):\n",
    "        for j in range(i+1):\n",
    "            S[j,i] = S_0*(u**j)*(d**(i-j))\n",
    "\n",
    "    V[:,-1] = g(S[:,-1],K)\n",
    "\n",
    "    if EU == 1:\n",
    "        for i in range(M-1,-1,-1):\n",
    "            for j in range(i+1):\n",
    "                V[j,i] = np.exp(-r*dt)*( q*V[j+1,i+1] + (1-q)*V[j,i+1])\n",
    "    elif EU == 0:\n",
    "        for i in range(M-1,-1,-1):\n",
    "            for j in range(i+1):\n",
    "                V[j,i] = max(g(S[j,i],K) ,np.exp(-r*dt)*( q*V[j+1,i+1] + (1-q)*V[j,i+1]))\n",
    "    else:\n",
    "        raise Exception(\"Specify valid EU state (0/1)\") \n",
    "    \n",
    "    \n",
    "    return V[0,0]\n",
    "\n",
    "\n",
    "\n",
    "sigma=0.3\n",
    "r=0.03\n",
    "S_0=100\n",
    "T=1\n",
    "M=2000\n",
    "K=100\n",
    "EU=1\n",
    "Type = 'call'\n",
    "\n",
    "V = crr_bs_approx(S_0,r,sigma,T,M,K,EU,Type)\n",
    "print(f\"Fair value of option: {round(V,3)}\")"
   ]
  },
  {
   "cell_type": "markdown",
   "metadata": {},
   "source": [
    "To check whether the approximation is any good compute BS call and compare:"
   ]
  },
  {
   "cell_type": "code",
   "execution_count": 8,
   "metadata": {},
   "outputs": [
    {
     "name": "stdout",
     "output_type": "stream",
     "text": [
      "The fair value of the option is 13.283, the hedging position in the the stock is 0.599, the hedging position in the the bond is -46.587\n"
     ]
    }
   ],
   "source": [
    "from scipy.stats import norm\n",
    "import numpy as np\n",
    "\n",
    "def eu_call_bs(S_t,r,sigma,T,K,t):\n",
    "    d_1 = (np.log(S_t/K)+(r+sigma**2/2)*(T-t))/(sigma*(T-t)**0.5)\n",
    "    d_2 = d_1 - sigma*(T-t)**0.5\n",
    "    phi_1 = norm.cdf(d_1)\n",
    "    cdf_d2 = norm.cdf(d_2)\n",
    "    c = S_t * phi_1 - K*np.exp(-r*(T-t)) *cdf_d2\n",
    "    phi_0 = -K*np.exp(-r*T)*cdf_d2\n",
    "    # def eu_call_bs(S_0,r,sigma,T,K,t):\n",
    "    # c = S_0\n",
    "    return c, phi_0, phi_1\n",
    "\n",
    "sigma=0.3\n",
    "r=0.03\n",
    "S_t=100\n",
    "T=1\n",
    "K=100 \n",
    "t = 0\n",
    "\n",
    "c, phi_0, phi_1 = eu_call_bs(S_t,r,sigma,T,K,t)\n",
    "print(f\"The fair value of the option is {round(c,3)}, the hedging position in the the stock is {round(phi_1,3)}, \\\n",
    "the hedging position in the the bond is {round(phi_0,3)}\")    "
   ]
  },
  {
   "cell_type": "markdown",
   "metadata": {},
   "source": [
    "## Monte Carlo\n",
    "Once we are considering very complicated payoff structures many numerical methods relying on e.g. solving PDE’s or using integral transforms are not available anymore. In this case we can employ Monte Carlo methods, basically simulating many possible futures and taking the sample moments as an approximation of the real world population moments. \n",
    "For this we need a random number generator that can sample from the appropriate probability distribution. The needed law might not be implemented in the software package so we may need to implement a random number generator that takes only uniformly distributed random numbers as input. This can be done via \n",
    "- Inversion\n",
    "- Acceptance/rejection method "
   ]
  },
  {
   "cell_type": "code",
   "execution_count": 9,
   "metadata": {},
   "outputs": [
    {
     "data": {
      "image/png": "[encoded data removed]",
      "text/plain": [
       "<matplotlib.figure.Figure at 0x1046bd0f0>"
      ]
     },
     "metadata": {},
     "output_type": "display_data"
    }
   ],
   "source": [
    "import numpy as np\n",
    "import scipy.interpolate as interpolate\n",
    "from matplotlib import pyplot as plt \n",
    "\n",
    "def inverse_transform_sampling(data, n_bins=100, n_samples=1000):\n",
    "    hist, bin_edges = np.histogram(data, bins=n_bins, density=True)\n",
    "    cum_values = np.zeros(bin_edges.shape)\n",
    "    cum_values[1:] = np.cumsum(hist*np.diff(bin_edges))\n",
    "    inv_cdf = interpolate.interp1d(cum_values, bin_edges)\n",
    "    r = np.random.rand(n_samples)\n",
    "    return inv_cdf(r)\n",
    "\n",
    "st_normal = np.random.normal(0,1,10000)\n",
    "mm_normal = np.append(st_normal, (np.random.normal(5,1,1000), np.random.normal(-10,1,1000)))\n",
    "c = inverse_transform_sampling(mm_normal,n_bins=100, n_samples=10000)\n",
    "plt.hist(mm_normal, alpha=0.5, bins=100, normed=True);\n",
    "plt.hist(c, alpha=0.5, bins=100, normed=True);\n",
    "plt.show();"
   ]
  },
  {
   "cell_type": "code",
   "execution_count": 10,
   "metadata": {},
   "outputs": [
    {
     "name": "stdout",
     "output_type": "stream",
     "text": [
      "Fair value of option: 13.197, 95% confidence interval: [ 12.238 , 14.155 ]\n"
     ]
    }
   ],
   "source": [
    "import numpy as np\n",
    "\n",
    "def mc_eu(S_0,K,r,sigma,T,N,g):\n",
    "    def f(x):\n",
    "        return np.exp(-r*T)*g(S_0*np.exp( (r-0.5*sigma**2)*T + (sigma*T**0.5*x) ), K) \n",
    "                              \n",
    "    X = np.random.normal(0,1,N)\n",
    "    Y = f(X)\n",
    "    v_0 = np.mean(Y)\n",
    "    epsilon = 1.96 * np.sqrt(np.var(Y)/M)\n",
    "    return v_0, epsilon\n",
    "                  \n",
    "sigma=0.3\n",
    "r=0.03\n",
    "S_0=100\n",
    "T=1\n",
    "N=10000\n",
    "K=100\n",
    "g = lambda S_0, K: np.maximum((S_0 - K),0)\n",
    "\n",
    "V,e = mc_eu(S_0,K,r,sigma,T,N,g)\n",
    "print(f\"Fair value of option: {round(V,3)}, 95% confidence interval: [ {round(V - e,3)} , {round(V+e,3)} ]\")"
   ]
  },
  {
   "cell_type": "markdown",
   "metadata": {},
   "source": [
    "### Variance reduction\n",
    "\n",
    "The Monte Carlo estimator converges at the rate $\\frac{1}{\\sqrt{ N }}$ since its standard deviation is $\\sigma(\\hat{V_N}) = \\frac{\\sigma(f(X))}{\\sqrt{N}}$. Since we don't have unlimited compute power this rate of convergence might be to slow for our purposes. We may can do better by trying to reduce $\\sigma(f(X))$ through some tricks, e.g., by means of antithetic variables or control variates. Another problem arises if there are outcomes with very low probability that have a large effect on the option value, i.e., Black Swans. In this case, we may not get any samples from the part of the distribution that matter most and our estimate will be way off. To correct for that use importance sampling. This can be useful e.g. in pricing deep out of the money puts:  "
   ]
  },
  {
   "cell_type": "code",
   "execution_count": 11,
   "metadata": {},
   "outputs": [
    {
     "name": "stdout",
     "output_type": "stream",
     "text": [
      "Fair value of OOM put with importance sampling: 0.109,95% confidence interval: [ 0.103 , 0.115 ]\n",
      "Fair value of OOM put standard MC : 0.109, 95% confidence interval: [ 0.054 , 0.163 ]\n",
      "Fair value of OOM put BS: 0.109\n"
     ]
    }
   ],
   "source": [
    "from scipy.stats import norm\n",
    "import numpy as np\n",
    "\n",
    "\n",
    "def mc_eu_is(S_0,K,r,sigma,T,N,g,mu):\n",
    "    def f(x):\n",
    "        return np.exp(-r*T-x*mu+0.5*mu**2)*g(S_0*np.exp( (r-0.5*sigma**2)*T + (sigma*T**0.5*x) ), K) \n",
    "                              \n",
    "    X = np.random.normal(mu,1,N)\n",
    "    Y = f(X)\n",
    "    v_0 = np.mean(Y)\n",
    "    epsilon = 1.96 * np.sqrt(np.var(Y)/M)\n",
    "    return v_0, epsilon\n",
    "\n",
    "\n",
    "\n",
    "def eu_put_bs(S_t,r,sigma,T,K,t):\n",
    "    d_1 = (np.log(S_t/K)+(r+sigma**2/2)*(T-t))/(sigma*(T-t)**0.5)\n",
    "    d_2 = d_1 - sigma*(T-t)**0.5\n",
    "\n",
    "    p =  K*np.exp(-r*(T-t)) *norm.cdf(-d_2) -  S_t *norm.cdf(-d_1)\n",
    "    \n",
    "    return p\n",
    "\n",
    "\n",
    "\n",
    "\n",
    "sigma=0.3\n",
    "r=0.03\n",
    "S_0=S_t=200\n",
    "T=1\n",
    "N=10000\n",
    "K=100\n",
    "g = lambda S_0, K: np.maximum((K-S_0),0)\n",
    "t = 0\n",
    "mu = ( np.log(K/S_0) - (r-1/2*sigma**2)*T ) / ( sigma*np.sqrt(T) )\n",
    "\n",
    "V,e = mc_eu_is(S_0,K,r,sigma,T,N,g,mu)\n",
    "print(f\"Fair value of OOM put with importance sampling: {round(V,3)},\\\n",
    "95% confidence interval: [ {round(V - e,3)} , {round(V+e,3)} ]\")\n",
    "\n",
    "\n",
    "V,e = mc_eu(S_0,K,r,sigma,T,N,g)\n",
    "print(f\"Fair value of OOM put standard MC : {round(V,3)}, 95% confidence \\\n",
    "interval: [ {round(V - e,3)} , {round(V+e,3)} ]\")\n",
    "\n",
    "\n",
    "V = eu_put_bs(S_t,r,sigma,T,K,t)\n",
    "print(f\"Fair value of OOM put BS: {round(V,3)}\")\n"
   ]
  },
  {
   "cell_type": "markdown",
   "metadata": {},
   "source": [
    "As can be seen above, the importance sampling technique estimates a much tighter confidence interval for the OOM put. "
   ]
  },
  {
   "cell_type": "markdown",
   "metadata": {},
   "source": [
    "### Finite difference method\n",
    "In addition to the fair value of the option we need to know how to hedge it. Hedging strategies often involve the derivative of the option with respect to variables such as the stock price. The finite difference approach gives us an approximation of the derivative. This works by simply nudging the variable $+h/2$ and $-h/2$ and observing how the function changes relative to $h$. More formally, for a sufficiently smooth function $z$ we have the Taylor expansion\n",
    "\n",
    "$$ z( \\theta + h/2) = z(\\theta) + z' (\\theta) h/2 + z'' (\\theta) h^2/8  + z''' (\\theta) h^3/48 + O(h^4)$$\n",
    "\n",
    "and \n",
    "\n",
    "$$ z( \\theta - h/2) = z(\\theta) - z' (\\theta) h/2 + z'' (\\theta) h^2/8  - z''' (\\theta) h^3/48 + O(h^4)$$\n",
    "\n",
    "where $O(h^4)$ stands for an expression such that $O(h^4)/h^4$  is bounded in a neighbourhood of\n",
    "$h = 0$.\n",
    "\n",
    "This yields \n",
    "\n",
    "$$z'(\\theta) = \\frac{z(\\theta+h/2)-z(\\theta-h/2)}{h} + O(h^2)$$ \n",
    "\n",
    "$$ = \\mathbb{E}\\big[\\frac{Z(\\theta+h/2)-Z(\\theta-h/2)}{h} \\big] + O(h^2)$$ \n",
    "\n",
    "The quantities $\\mathbb{E}\\big[ Z(\\theta + h/2)\\big]$ and $\\mathbb{E}\\big[ Z(\\theta - h/2)\\big]$ can be computed by Monte Carlo simulation as usual. Choosing a small $h$ reduces the bias due to the $O(h^2)$ term."
   ]
  },
  {
   "cell_type": "code",
   "execution_count": 12,
   "metadata": {},
   "outputs": [
    {
     "name": "stdout",
     "output_type": "stream",
     "text": [
      "The hedging position in the stock is 0.6.\n"
     ]
    }
   ],
   "source": [
    "import numpy as np\n",
    "\n",
    "def mc_eu(S_0,K,r,sigma,T,N,g):\n",
    "        \n",
    "    x = np.random.normal(0,1,N)\n",
    "    a = np.exp(-r*T)*g((S_0+h/2)*np.exp( (r-0.5*sigma**2)*T + (sigma*T**0.5*x) ), K) \n",
    "    b = np.exp(-r*T)*g((S_0-h/2)*np.exp( (r-0.5*sigma**2)*T + (sigma*T**0.5*x) ), K) \n",
    "    Y = (a-b)/h\n",
    "    v_prime = np.mean(Y)\n",
    "    \n",
    "    return v_prime\n",
    "                  \n",
    "sigma=0.3\n",
    "r=0.03\n",
    "S_0=100\n",
    "T=1\n",
    "N=100000\n",
    "K=100\n",
    "g = lambda S_0, K: np.maximum((S_0 - K),0)\n",
    "h = 1\n",
    "\n",
    "v_prime = mc_eu(S_0,K,r,sigma,T,N,g)\n",
    "print(f\"The hedging position in the stock is {round(v_prime,3)}.\")"
   ]
  },
  {
   "cell_type": "markdown",
   "metadata": {},
   "source": [
    "## Simulation of stochastic integrals\n",
    "In some applications we need to simulate the whole path $(X (t))_{t\\in[0,T ]}$ of a stochastic process rather than just its terminal value $X(T)$. This happens e.g. if we want to compute prices of path-dependent claims as e.g. lookback, barrier, or Asian options. But even if we are interested only in$ X (T )$, it may be necessary to simulate the past as well because we do not know the law of $ X(T)$ in closed form.\n",
    "In this section we focus on diffusion-type processes, i.e., solution to stochastic differential equations of the form\n",
    "$$dX (t) = a(X (t), t)dt + b(X (t), t)dW (t)$$\n",
    "\n",
    "with some Wiener process $W$, some starting value $X(0)$, and given deterministic functions $a$, $b$. It is obviously impossible to simulate infinitely many numbers on a real computer. The goal is therefore to generate random paths of $X$ on some equidistant time grid $0 = t_0 < t_1 < ··· < t_m = T$ with $t_i = i\\Delta t$ and $\\Delta t = T/m$, i.e., \n",
    "$X(t_0),...,X(t_m)$."
   ]
  },
  {
   "cell_type": "markdown",
   "metadata": {},
   "source": [
    "### Euler method\n",
    "If $a$ and $b$ are sufficiently smooth and the grid is sufficiently dense \n",
    "$$X(t_i) \\approx X(t_{i-1})+ \\int_{t_{i-1}}^{t_i} a(X(t_{i-1}),t_{i-1})dt + \\int_{t_{i-1}}^{t_i} b(X(t_{i-1}),t_{i-1})dW(t)$$\n",
    "\n",
    "$$= X(t_{i-1}) + a(X(t_{i-1}), t_{i-1})\\Delta t + b(X(t_{i-1}), t_{i-1})\\Delta W_i$$\n",
    "\n",
    "with $W_i = W_{t_{i}} - W_{t_{i-1}}$\n",
    "is a good approximation for \n",
    "\n",
    "$$X(t_i) = X(t_{i-1})+ \\int_{t_{i-1}}^{t_i} a(X(t),t)dt + \\int_{t_{i-1}}^{t_i} b(X(t),t)dW(t)$$"
   ]
  },
  {
   "cell_type": "markdown",
   "metadata": {},
   "source": [
    "Let's simulate geometric Brownian motion where $a(X(t),t) = \\mu * X(t) $ and $b(X(t),t) = \\sigma * X(t) $ "
   ]
  },
  {
   "cell_type": "code",
   "execution_count": 13,
   "metadata": {},
   "outputs": [
    {
     "data": {
      "image/png": "[encoded data removed]",
      "text/plain": [
       "<matplotlib.figure.Figure at 0x104489b38>"
      ]
     },
     "metadata": {},
     "output_type": "display_data"
    },
    {
     "name": "stdout",
     "output_type": "stream",
     "text": [
      "The mean stock price at time T is 1.040005716462665\n"
     ]
    }
   ],
   "source": [
    "import numpy as np \n",
    "from matplotlib import pyplot as plt \n",
    "\n",
    "def geom_brownian_motion(m,T,a,b,X_0):\n",
    "    dt = T/m\n",
    "    r = np.random.normal(0,1,m)\n",
    "    dW = r * np.sqrt(dt)\n",
    "    X = np.zeros(m)\n",
    "    t = np.zeros(m)\n",
    "    t[0] = 0\n",
    "\n",
    "    X[0] = X_0\n",
    "    for i in range(1,m):\n",
    "        t[i] = t[i-1]+dt\n",
    "        X[i] = X[i-1] + a(X[i-1],t[i-1])*dt + b(X[i-1],t[i-1])*dW[i]\n",
    "    return X, t\n",
    "\n",
    "\n",
    "m=1000\n",
    "T=1\n",
    "mu = 0.1\n",
    "sigma = 0.3\n",
    "a = lambda X, t: mu*X\n",
    "b = lambda X, t:sigma*X\n",
    "X_0 = 1  \n",
    "\n",
    "# Let's simulate n alternative future histories.\n",
    "n = 100\n",
    "X = np.zeros((n,m))\n",
    "for i in range(n):\n",
    "    X[i],t = geom_brownian_motion(m,T,a,b,X_0)\n",
    "    plt.plot(t,X[i])\n",
    "\n",
    "plt.show()\n",
    "\n",
    "X_mean  = np.mean(X[:,-1])\n",
    "print(f\"The mean stock price at time T is {X_mean}\")"
   ]
  },
  {
   "cell_type": "markdown",
   "metadata": {},
   "source": [
    "And let us show by simulation that this is equivalent to $X(t) = X(0) \\exp((\\mu -\\sigma^2/2)t + \\sigma W (t))$ with $t = T$ ."
   ]
  },
  {
   "cell_type": "code",
   "execution_count": 14,
   "metadata": {},
   "outputs": [
    {
     "name": "stdout",
     "output_type": "stream",
     "text": [
      "The mean stock price at time T is 1.1003810409996253\n"
     ]
    }
   ],
   "source": [
    "X = np.zeros(n)\n",
    "r = np.random.normal(0,1,m)\n",
    "\n",
    "X = X_0 *np.exp((mu-sigma**2/2)*T + sigma*r*T**0.5)\n",
    "X_mean  = np.mean(X)\n",
    "print(f\"The mean stock price at time T is {X_mean}\")"
   ]
  },
  {
   "cell_type": "markdown",
   "metadata": {},
   "source": [
    "# Ito calculus \n",
    "\n",
    "If we move from dicrete time to continuous time, we need a proper framework for working with continuous stochastic processes. We are working in a probability space ($\\Omega$, $\\mathcal{F}$ , $P$ ) consisting of the set $\\Omega$ of possible outcomes, a $\\sigma$-field $\\mathcal{F}$ on $\\Omega$ and a probability measure $P$ on $\\mathcal{F}$. Standard calculus works for functions with finite variation, continuous stochastic functions, however, can have infinite variation, i.e., they can't be approximated by a smooth function no matter how local one gets. \n",
    "Many adapted stochastic proccesses can be decomposed into $X = X(0)+M+A$ with a martingale $M$ and a predictable process of finite variation $A$ according to Doop-Meyer. Our primary need from stochastic calculus is the stochastic intragal which represents financial gains. If $H$ is piecewise constant $H(t) = \\sum_{i=1}^{n} {V_i \\mathcal{1}_{[t_{i-1},t_i)}(t)}$\n",
    "then the integral $$H \\bullet X := \\int H(t)dX(t)$$ is defined as\n",
    "\n",
    "$$H \\bullet X(t):= \\int_{0}^{t} H(s)dX(s):= \\sum_{i=1}^n V_{i}(X(t_i)-X(t_{i-1}))$$\n",
    "If $H(t$) stands for the number of shares in the portfolio at time $t$, $d$ for the assets, and $X(t)$ denotes the stock price at time $t$, then simple bookkeeping yields that  $\\int_0^t H(s)dX(s)$ stands for the financial \n",
    "gains of the portfolio from time 0 to $t$. \n",
    "\n",
    "This can also be written as \n",
    "\n",
    "$$dY (s) = H(s)dX(s)$$\n",
    "\n",
    "The integration by parts rule \n",
    "$$d(X(t)Y (t)) = X(t-)dY (t) + Y (t-)dX(t) + d[X, Y ](t)$$\n",
    "turns out to be useful, where $[X, Y ](t)$ denotes the covariation process, which is the limit of expressions\n",
    "\n",
    "$$\\sum_{k=1}^n \\big(X(\\frac{k}{n} t)-X(\\frac{k-1}{n} t)\\big) \\big(Y(\\frac{k}{n} t)-(Y(\\frac{k-1}{n} t)\\big)$$\n",
    "\n",
    "if we let $n$ tend to infinity. In other words, $[X, Y ]$ sums up products of increments of $ X$ and $ Y$ over infinitesimal time intervals. For $X = Y$ it is called quadratic variation.  This can also be written as $dX(t)dY (t) = d[X, Y ](t)$. It vanishes if both either $X$ or $Y$ is continuous and either of them is of finite variation. Moreover, $[X, Y ]$ is itself of finite variation.\n",
    "\n",
    "The most import formula from stochastic calculus is Ito's formula \n",
    "$$f(X(t)) =f(X(0))+ \\int_0^t f'(X(s))dX(s)+ \\frac{1}{2} \\int_0^t  f''(X(s))d[X,X](s)$$\n",
    "\n",
    "or in differential notation \n",
    "\n",
    "$$df(X(t)) = f'(X(t))dX(t) +\\frac{1}{2} f''(X)d[X, X](t)$$\n",
    "\n",
    "One reoccuring proccess that involves the yet unknown proccess on both sides is the stochastic exponential\n",
    "\n",
    "$$dZ(t) = Z(t)dX(t) \\text{  ,   } Z(0) = 1$$\n",
    "\n",
    "It has the unique solution\n",
    "\n",
    "$$\\mathcal{E}(X)(t)=\\exp \\big(X(t)-X(0)-2[X,X](t) \\big)$$\n",
    "\n",
    "\n",
    "The stochastic exponential of an Ito process is \n",
    "\n",
    "$$\\mathcal{E}(X)(t)=\\exp \\bigg( \\int_0^t \\big(\\mu(s) - 0.5 \\sigma^2(s)\\big) ds + \\int_0^t \\sigma(s) dW(s)  \\bigg)$$\n",
    "\n",
    "Brownian motion can be written as $X(t) = \\mu t + \\sigma W(t)$ with drift rate $\\mu$ , diffusion coefficient $\\sigma$, and Wiener proccess $W$. The quadratic variation of Brownian motion equals $[X, X](t) = \\sigma^2t$ and in particular $[W, W](t) = t$ for a Wiener process $W$ . \n",
    "\n",
    "$dX(t) = \\mu X(t)dt + \\sigma X(t)dW(t)$, $X(0) = x$ can be rephrased as $dX(t) = X(t)dY (t)$, $X(0) = x$\n",
    "with $Y (t) = \\mu t + \\sigma W (t)$. By the stochastic exponential $X(t)=x \\mathcal{E} (Y)(t)=x\\exp\\big((\\mu-0.5\\sigma^2) t + \\sigma W(t)\\big)$. This process $X$ is called geometric Brownian motion.\n",
    "\n"
   ]
  },
  {
   "cell_type": "markdown",
   "metadata": {},
   "source": [
    "## Black-Scholes model\n",
    "\n",
    "We are in a complete market with a bond $$B(t) = e^{rt}$$ and a stock $$S(t) = S(0) \\exp \\big(\\mu t + \\sigma W(t) \\big)$$\n",
    "\n",
    "In order to compute option prices we need the law of the stock price under the unique EMM $\\mathbb{Q}$.\n",
    "The discounted price process $\\hat{S}(t) = S(0) \\exp((\\mu - r)t + \\sigma W (t))$  solves the stochastic differential equation $dS(t)=S(t)\\big( (\\mu  - r + 0.5 \\sigma^2) dt +  \\sigma dW(t)\\big)$ because of the stochastic exponential. \n",
    "\n",
    "Now consider the measure $\\mathbb{Q} \\sim \\mathbb{P}$ with density process \n",
    "\n",
    "$$dZ(t) = -Z(t) \\frac{\\mu - r + 0.5 \\sigma^2}{\\sigma}dW(t)$$\n",
    "\n",
    "with $$Z(0) = 1 $$\n",
    "\n",
    "\n",
    "\n",
    ">#### Girsanov’s theorem \n",
    "\n",
    ">If the density process $Z$ of $\\mathbb{Q} \\sim \\mathbb{P}$ reads as\n",
    ">$dZ(t) = Z(t) \\sigma (t)dW(t)$\n",
    ">the Wiener process $W$ can be written as\n",
    ">$dW (t) = dW^\\mathcal{Q}(t) + \\sigma(t)dt$\n",
    "\n",
    "\n",
    "Hence, $$dW(t) = dW^\\mathcal{Q}(t) - \\frac{\\mu - r + 0.5 \\sigma^2}{\\sigma}dt $$\n",
    "with some $\\mathcal{Q}$-Wiener process $W^\\mathcal{Q}$ . \n",
    "\n",
    "This yields $ d\\hat{S}(t) = \\hat{S}(t) \\sigma d W^\\mathcal{Q}(t)$, which implies that $\\hat S$ is a $\\mathcal{Q}$-martingale because the drift part in the Ito process decomposition relative to $\\mathcal{Q}$ vanishes. Hence we have found the unique EMM $\\mathcal{Q}$.  \n",
    "\n",
    "Using $S = \\hat S B $ and the stochastic exponential we obtain\n",
    "$$ S(t)=S(0)\\exp \\big( (r - 0.5\\sigma^2) t + \\sigma W^\\mathcal{Q}(t) \\big)$$ .\n",
    "\n",
    "The option value is of an European option with payoff $X = f(S(T))$ is $V (0) = B(0)\\mathbb{E}^\\mathbb{Q}\\big[(f(S(T))/B(T))\\big] $ .\n",
    "\n",
    "$W^\\mathcal{Q}(T)$ has the same law as $\\sqrt{T}Y$ for a standard normal\n",
    "random variable $Y$. \n",
    "\n",
    "Because $\\mathbb{E}[g(Y)]  = \\frac{1}{\\sqrt{2\\pi}} \\int_{-\\infty}^{+\\infty} g(x) \\exp(-0.5x^2) dx$\n",
    "\n",
    "for any function g\n",
    "\n",
    "\n",
    "\n",
    " $$V(0)  =\\frac{1}{\\sqrt{2\\pi}} \\int_{-\\infty}^{+\\infty} \\exp(-{rT}) f(S(0)\\exp \\big( (r - 0.5\\sigma^2) T + \\sigma \\sqrt{T} x \\big) ) \\exp(-0.5x^2) dx$$\n",
    " \n",
    " The option value at time $t$ $$V (t) =B(t)\\mathbb{E}^\\mathbb{Q}\\big[f(S(T))/B(T) \\big| \\mathcal{F}_t\\big]$$\n",
    " \n",
    " can be computed by \n",
    " \n",
    " $$V(t)  =\\frac{1}{\\sqrt{2\\pi}} \\int_{-\\infty}^{+\\infty} \\exp(-{r(T-t)}) f(S(t)\\exp \\big( (r - 0.5\\sigma^2) (T-t) + \\sigma \\sqrt{T-t} x \\big) ) \\exp(-0.5x^2) dx$$\n",
    "\n",
    "if we use the representation $S(T)=S(t)\\exp \\big((r - 2 (T - t)+\\sigma (W^\\mathbb{Q} (T) - W^\\mathbb{Q} (t))\\big)$ and observe that $W^\\mathbb{Q} (T) - W^\\mathbb{Q}(t)$ has the same law as $\\sqrt{T-t}Y$ for a standard normal random variable $Y$. \n"
   ]
  },
  {
   "cell_type": "markdown",
   "metadata": {},
   "source": [
    "## PDE approach\n",
    "Instead of pricing by integration one could also solve the PDE to get the option value.\n",
    "\n",
    "With $\\hat V(t) =\\hat v(t, S(t))$ and $dS(t) = S(t)rdt + S(t)\\sigma W^\\mathbb{Q}(t)$ Ito's formula yields\n",
    "\n",
    "$$\\hat{dV(t)} = \\hat{dv(t, S(t))}$$\n",
    "$$= \\big( \\partial_1 \\hat{v(t, S(t))} + \\partial_2 \\hat{v(t, S(t))}rS(t) + 0.5 \\partial_{22} \\hat{v(t, S(t))} \\sigma^2 S (t)^2 \\big)dt +\\partial_2 \\hat{v(t, S(t))} \\sigma S(t) dW^\\mathbb{Q}(t) $$\n",
    "\n",
    "Since $\\hat{V}$ is a $\\mathbb{Q}$-martingale, it drift part has to vanish regardless of $t$ and the present value of\n",
    "$S(t)$. This is only possible if $\\hat{v}$ satisfies the partial differential equation (PDE)\n",
    "\n",
    "$$\\partial_1 \\hat{v(t, x)} + \\partial_2 \\hat{v(t,x)}rx + 0.5 \\partial_{22} \\hat{v(t, x)} \\sigma^2 x^2 = 0 $$ \n",
    "\n",
    "or \n",
    "$$\\frac{\\partial}{\\partial t} \\hat{v(t, x)} = -rx \\frac{\\partial}{\\partial x } \\hat{v(t,x)} - 0.5 \\sigma^2 x^2 \\frac{\\partial}{\\partial x^2} \\hat{v(t, x)} $$\n",
    "\n",
    "Since $v(t,x) = \\hat{v(t,x)}e^{rt}$, this leads to the Black-Scholes PDE\n",
    "\n",
    "$$\\frac{\\partial}{\\partial t} {v(t, x)} = rv(t,x)-rx \\frac{\\partial}{\\partial x } {v(t,x)} - 0.5 \\sigma^2 x^2 \\frac{\\partial}{\\partial x^2} {v(t, x)} $$\n",
    "\n",
    "This is complemented by the final value $v(T,x) = f(x)$. \n",
    "\n",
    "Solving this system of equations gives the fair value of an European option.\n",
    "\n",
    "The option can be replicated by a self-financing strategy $\\phi = (\\phi_0, \\phi_1)$ \n",
    "that satisfies $d\\hat V\\phi(t) = \\phi_1(t)d\\hat S(t) = \\phi_1(t)\\hat S (t) \\sigma dW^\\mathbb{Q}(t)$.\n",
    "\n",
    "Comparing this with the result from Ito's formula yields\n",
    "$$\\phi_1(t)\\hat S(t)\\sigma = \\partial_2 \\hat v(t, S(t))\\sigma S(t)$$\n",
    "or \n",
    "\n",
    "$$\\phi_1(t) =S(t)/\\hat S(t) \\partial_2 \\hat v(t, S(t)) $$\n",
    "$$ = e^{rt} \\partial_2 \\hat v(t, S(t)) $$\n",
    "$$ = \\partial_2 v(t, S(t)) $$\n",
    "\n",
    "the partial derivative of the option price relative to the stock price yields the number of shares of stock in the replicating portfolio. This quantity is called Delta. \n",
    "\n",
    "The remaining funds are invested in the bond.\n",
    "\n",
    "$$\\phi_0(t) = \\frac{ v(t, S(t)) - \\phi_1 S(t)}{B(t)} $$\n",
    "\n",
    "\n"
   ]
  },
  {
   "cell_type": "code",
   "execution_count": null,
   "metadata": {},
   "outputs": [],
   "source": []
  }
 ],
 "metadata": {
  "kernelspec": {
   "display_name": "Python 3",
   "language": "python",
   "name": "python3"
  },
  "language_info": {
   "codemirror_mode": {
    "name": "ipython",
    "version": 3
   },
   "file_extension": ".py",
   "mimetype": "text/x-python",
   "name": "python",
   "nbconvert_exporter": "python",
   "pygments_lexer": "ipython3",
   "version": "3.6.1"
  }
 },
 "nbformat": 4,
 "nbformat_minor": 2
}
