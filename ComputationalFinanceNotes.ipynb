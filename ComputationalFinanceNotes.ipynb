{
 "cells": [
  {
   "cell_type": "markdown",
   "metadata": {},
   "source": [
    "# Computational Finance\n",
    "\n",
    "We want to (1) compute the value of an option, (2) define hedging strategies that replicate this option, and (3) calibrate a parametric model with observed option prices. "
   ]
  },
  {
   "cell_type": "markdown",
   "metadata": {},
   "source": [
    "Consider a market containing two primary assets: a risk-free bond with price $B_t=e^{rt}$, a stock $S_t$\n",
    "of geometric Brownian motion type $S(t)$ = $S(0) exp(\\mu t + \\sigma W(t))$, with parameters $\\mu \\in \\mathbb{R}, \\sigma > 0 $ and standard Brownian motion $W$."
   ]
  },
  {
   "cell_type": "markdown",
   "metadata": {},
   "source": [
    "A derivative or option is an asset whose payoff depends on the underlying. The payoff $X$ at time $T$ may be a function $f(S(T))$ of the underlying at time $T$ as e.g. $X = (S(T)-K)^{+}$ for a simple European call or it could be a more complex function of the whole past of $S$. In complete markets such options can be replicated perfectly. This means that there exists a self-financing portfolio $\\phi = (\\phi_0,\\phi_1)$ whose value at time $T$ equals $V_\\phi(T) = X$. Absence of arbitrage implies that $V_\\phi(t)$ is the only reasonable option price of the option at time $t$. It can be computed as conditional expectation\n",
    "\n",
    "\n",
    "$V_\\phi(t) = B(t)\\mathbb{E}^\\mathbb{Q}\\big[X/B(T) \\big| \\mathcal{F}_t\\big]$ \n",
    "\n",
    "\n",
    "of the discounted payoff under the unique equivalent martingale measure $\\mathbb{Q}$, i.e. the unique\n",
    "probability measure $\\mathbb{Q} \\sim \\mathbb{P}$ such that $S/B$ is a $\\mathbb{Q}$-martingale."
   ]
  },
  {
   "cell_type": "markdown",
   "metadata": {},
   "source": [
    "American options are specified by an entire exercise process $X = (X(t))_{t\\in[0,T]}$ as e.g. $X(t) = (K-S(t))^{+}$ for an American put. In the complete case, the only reasonable price is the B-fold of the Snell envelope of $X/B$ relative to $\\mathbb{Q}$. The $\\mathbb{Q}$-Snell envelope is the smallest $\\mathbb{Q}$-supermartingale dominating $X/B$. Again, $\\mathbb{Q}$ denotes the unique equivalent martingale measure from above. One can write this fair price also as\n",
    "\n",
    "\n",
    "$V(t) =  \\sup_{\\tau} \\mathbb{E}^\\mathbb{Q}\\big[X(\\tau)/B(\\tau) \\big| \\mathcal{F}_t\\big]$ \n",
    "\n",
    "\n",
    "where the supremum extends over all stopping times stopping between t and T. One such stopping time is the first time $t$ such that $V (t) = X(t)$, i.e. the market price of the option equals the exercise price.\n",
    "\n"
   ]
  },
  {
   "cell_type": "markdown",
   "metadata": {},
   "source": [
    "- A Martingale is a sequence of random variables (i.e., a stochastic process) for which, at a particular time in the realized sequence, the expectation of the next value in the sequence is equal to the present observed value even given knowledge of all prior observed values. Supermartingale: $\\mathbb{E}$ equal or less than current value.\n",
    "- The Snell envelope is the smallest supermartingale dominating a stochastic process. \n",
    "- Supremum: the smallest quantity that is greater than or equal to each of a given set or subset of quantities.\n",
    "- $\\mathcal{F}_t$ is the sigma-field at time $t$, i.e. all the available information at time $t $"
   ]
  },
  {
   "cell_type": "markdown",
   "metadata": {},
   "source": [
    "## Binomial Trees \n"
   ]
  },
  {
   "cell_type": "markdown",
   "metadata": {},
   "source": [
    "\n",
    "In the Cox-Ross-Rubenstein model (CRR) we consider equidistant times $0 = t_0,t_1,...,t_M = T$ with $t_i = i\\Delta t$ and hence $\\Delta t = T/M.$ The bond moves according to $B(t_i) = e^{rt_i}$ .\n",
    "The stock goes up by a factor $u$ resp. down by a factor $d$ in each period, i.e.,\n",
    "\n",
    "$S_t = \\left\\{\n",
    "    \\begin{array}{lr}\n",
    "    S(t_{i−1})u  & \\text{with probability $p$}\\\\\n",
    "    S(t_i) = S(t_{i−1})d & \\text{with probability $1 − p$}\n",
    "  \\end{array}\n",
    "\\right.$\n",
    "\n",
    ", where $d < e^{r\\Delta t} < u$. More precisely, $p$ and $1 − p$ denote the conditional probabilities of going up and down, repectively, given the past. Option prices in a properly chosen sequence of CRR models converge to the corresponding Black-Scholes notions if the number of time step tends to infinity.\n",
    "\n",
    "For option pricing real-world transition probabilities do not matter. Instead we need to consider martingale probabilities, i.e. probabilities such that\n",
    "\n",
    "$\\mathbb{E}^\\mathbb{Q}\\big[S(t_i)/B(t_i)\\big| \\mathcal{F}_{t_{i-1}}\\big] = S(t_{i-1})/B(t_{i-1}$ .\n",
    "\n",
    "\n"
   ]
  },
  {
   "cell_type": "markdown",
   "metadata": {},
   "source": []
  },
  {
   "cell_type": "code",
   "execution_count": null,
   "metadata": {},
   "outputs": [],
   "source": []
  }
 ],
 "metadata": {
  "kernelspec": {
   "display_name": "Python 3",
   "language": "python",
   "name": "python3"
  },
  "language_info": {
   "codemirror_mode": {
    "name": "ipython",
    "version": 3
   },
   "file_extension": ".py",
   "mimetype": "text/x-python",
   "name": "python",
   "nbconvert_exporter": "python",
   "pygments_lexer": "ipython3",
   "version": "3.6.1"
  }
 },
 "nbformat": 4,
 "nbformat_minor": 2
}
